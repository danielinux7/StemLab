{
 "cells": [
  {
   "cell_type": "code",
   "execution_count": 1,
   "metadata": {},
   "outputs": [],
   "source": [
    "%matplotlib inline"
   ]
  },
  {
   "cell_type": "markdown",
   "metadata": {},
   "source": [
    "# Exercise\n",
    "\n",
    "**Task**\n",
    "\n",
    "* Get the data for dataset `rd_e_berdindr2` from the Eurostat API for all NACE activities as a percentage of GDP\n",
    "* Read the data into a pandas dataframe\n",
    "* Calculate the total expenditure across countries each year\n",
    "* Plot it\n",
    "\n",
    "---\n",
    "**Links**\n",
    "\n",
    "* [Query builder](https://ec.europa.eu/eurostat/web/json-and-unicode-web-services/getting-started/query-builder) - This will help you build a query\n",
    "* [Data Explorer](https://appsso.eurostat.ec.europa.eu/nui/show.do?dataset=rd_e_berdindr2&lang=en) - This will let you explore the dataset\n",
    "* [Metadata](https://ec.europa.eu/eurostat/cache/metadata/en/rd_esms.htm) - Description of the data\n",
    "\n",
    "---\n",
    "**Hint**\n",
    "\n",
    "If you look at the data-explorer/metadata/response you will see that there won't be a `payload['value']` for every possible index - there is missing data!\n",
    "To deal with this we can create a quick workaround by using a `defaultdict` from the `collections` library.\n",
    "A default dict takes a function and a dictionary as arguements. When a value is looked up in the dictionary that isn't found it calls and returns the function passed to `defaultdict`. \n",
    "\n",
    "Below we create a `defaultdict` that returns `None` for indexes that aren't there and builds a new dictionary that fills in the missing data:\n",
    "\n",
    "``` python\n",
    "from collections import defaultdict\n",
    "n = len(index)  # Length of our index\n",
    "def return_none():\n",
    "    return None\n",
    "d = defaultdict(return_none, payload['value'])  # Build default dict\n",
    "values = [\n",
    "    d[str(i)]  # Lookup `i` in dictionary\n",
    "    for i in range(n)  # Numberical indexes\n",
    "]\n",
    "```\n",
    "\n",
    "**Use this *somewhere* in your solution**\n",
    "\n",
    "NOTE: We use `str(i)` because the keys of the dictionaries are strings not integers so we need to convert\n",
    "\n",
    "---\n",
    "**EXTENSION**\n",
    "\n",
    "Pick another dataset from Eurostat, fetch it and use a [`merge`](https://pandas.pydata.org/pandas-docs/stable/reference/api/pandas.DataFrame.merge.html) operation to join the two datasets together."
   ]
  },
  {
   "cell_type": "markdown",
   "metadata": {},
   "source": [
    "# Solution"
   ]
  },
  {
   "cell_type": "code",
   "execution_count": 2,
   "metadata": {},
   "outputs": [
    {
     "data": {
      "text/plain": [
       "<matplotlib.axes._subplots.AxesSubplot at 0x7f24964c73c8>"
      ]
     },
     "execution_count": 2,
     "metadata": {},
     "output_type": "execute_result"
    },
    {
     "data": {
      "image/png": "[encoded data removed]",
      "text/plain": [
       "<Figure size 432x288 with 1 Axes>"
      ]
     },
     "metadata": {
      "needs_background": "light"
     },
     "output_type": "display_data"
    }
   ],
   "source": [
    "from collections import defaultdict\n",
    "import requests\n",
    "import pandas as pd\n",
    "\n",
    "# Make the request\n",
    "url = ('http://ec.europa.eu/eurostat/wdds/rest/data/v2.1/json/en'\n",
    "       '/rd_e_berdindr2?precision=1&unit=PC_GDP&nace_r2=TOTAL'\n",
    "       )\n",
    "try:\n",
    "    response = requests.get(url)\n",
    "    response.raise_for_status()  # Gives an error if not successful\n",
    "except:\n",
    "    print(response.reason)\n",
    "    raise\n",
    "\n",
    "# Parse into JSON\n",
    "payload = response.json()\n",
    "\n",
    "# Define the index from `payload['dimension']`\n",
    "index = pd.MultiIndex.from_product(\n",
    "    [payload['dimension'][k]['category']['index'] for k in payload['id']]\n",
    "    , names = payload['id']\n",
    ")\n",
    "index\n",
    "\n",
    "# Fill in gaps in data\n",
    "n = len(index)\n",
    "def return_none():\n",
    "    return None\n",
    "d = defaultdict(return_none, payload['value'])\n",
    "values = [d[str(i)] for i in range(n)]\n",
    "\n",
    "# Read into dataframe, manipulate and plot\n",
    "(pd.DataFrame(values, index=index)\n",
    "    # Make dataframe wider\n",
    "   .unstack('time')\n",
    "   .droplevel(0, axis=1)\n",
    "    # Get totals\n",
    "   .sum()\n",
    "    # Plot\n",
    "   .plot()\n",
    ")"
   ]
  }
 ],
 "metadata": {
  "hide_input": false,
  "kernelspec": {
   "display_name": "Python 3",
   "language": "python",
   "name": "python3"
  },
  "language_info": {
   "codemirror_mode": {
    "name": "ipython",
    "version": 3
   },
   "file_extension": ".py",
   "mimetype": "text/x-python",
   "name": "python",
   "nbconvert_exporter": "python",
   "pygments_lexer": "ipython3",
   "version": "3.7.3"
  },
  "nav_menu": {},
  "toc": {
   "base_numbering": 1,
   "nav_menu": {},
   "number_sections": true,
   "sideBar": true,
   "skip_h1_title": false,
   "title_cell": "Table of Contents",
   "title_sidebar": "Contents",
   "toc_cell": false,
   "toc_position": {},
   "toc_section_display": "block",
   "toc_window_display": false
  },
  "varInspector": {
   "cols": {
    "lenName": 16,
    "lenType": 16,
    "lenVar": 40
   },
   "kernels_config": {
    "python": {
     "delete_cmd_postfix": "",
     "delete_cmd_prefix": "del ",
     "library": "var_list.py",
     "varRefreshCmd": "print(var_dic_list())"
    },
    "r": {
     "delete_cmd_postfix": ") ",
     "delete_cmd_prefix": "rm(",
     "library": "var_list.r",
     "varRefreshCmd": "cat(var_dic_list()) "
    }
   },
   "types_to_exclude": [
    "module",
    "function",
    "builtin_function_or_method",
    "instance",
    "_Feature"
   ],
   "window_display": false
  }
 },
 "nbformat": 4,
 "nbformat_minor": 2
}
