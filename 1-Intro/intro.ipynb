{
  "cells": [
    {
      "cell_type": "markdown",
      "metadata": {
        "id": "LZpIAgnOkHft"
      },
      "source": [
        "# Demystifying APIs and Web scraping"
      ]
    },
    {
      "cell_type": "markdown",
      "metadata": {
        "id": "RMKcARN2kHf4"
      },
      "source": [
        "## Schedule\n",
        "\n",
        "Two part tutorial, hosted on google colab:\n",
        "* API\n",
        "* Web scraping\n",
        "\n",
        "You can either:\n",
        "* Open up the tutorial in colab, follow along executing (and tweaking if you wish to) the code cells as we go\n",
        "* Just listen and follow my screen\n",
        "\n",
        "At the end of each part there are brief exercises applying what we will (hopefully) have learned. \n",
        "If there is time we'll do them here, if there isn't you can do them in your own time (colab will still work) and check the linked solution.\n",
        "\n",
        "\n",
        "We will be using Python but similar packages exist in R and other languages.\n",
        "\n",
        "If you're not a programmer you will probably not fully follow everything we do in code but should still learn a lot about how APIs and webscraping work as well as the key steps you need to perform to collect data from the web.  "
      ]
    },
    {
      "cell_type": "markdown",
      "metadata": {
        "id": "kEjytC_vkHf7"
      },
      "source": [
        "## Getting data\n",
        "\n",
        "There are many ways to get data:  "
      ]
    },
    {
      "cell_type": "markdown",
      "metadata": {
        "id": "pjFmDsV4kHf9"
      },
      "source": [
        "### Data dumps\n",
        "\n",
        "We download a file (from the web, USB stick etc.)\n",
        " \n",
        " "
      ]
    },
    {
      "cell_type": "markdown",
      "metadata": {
        "id": "Nyw_4qw2kHf-"
      },
      "source": [
        "### Databases\n",
        "\n",
        "We write a SQL query. e.g.\n",
        "\n",
        "```\n",
        "SELECT Name, Number_Of_Hands FROM Characters WHERE\n",
        "Name LIKE '%Skywalker%';\n",
        "```\n",
        "Result:\n",
        "``` \n",
        "| Name             | Number_Of_Hands   |\n",
        "|------------------+-------------------|\n",
        "| Luke Skywalker   |                 1 |\n",
        "| Anakin Skywalker |                 1 |\n",
        "| Leia Skywalker   |                 2 |\n",
        "| Shmi Skywalker   |                 2 |\n",
        "```"
      ]
    },
    {
      "cell_type": "markdown",
      "metadata": {
        "id": "rQTOzch0kHgA"
      },
      "source": [
        "### **API's** - \"Application Programming Interface\"\n",
        "\n",
        "![dog_api.png](attachment:dog_api.png)"
      ]
    },
    {
      "cell_type": "markdown",
      "metadata": {
        "id": "R6RK-CDWkHgB"
      },
      "source": [
        "![alt](https://github.com/danielinux7/StemLab/blob/master/1-Intro/figures/collie.png?raw=1)"
      ]
    },
    {
      "cell_type": "markdown",
      "metadata": {
        "id": "0QUHperKkHgE"
      },
      "source": [
        "### **Web scraping**\n",
        "\n",
        "![](https://github.com/danielinux7/StemLab/blob/master/1-Intro/figures/webscraping.jpg?raw=1)"
      ]
    }
  ],
  "metadata": {
    "celltoolbar": "Slideshow",
    "hide_input": false,
    "kernelspec": {
      "display_name": "Python 3",
      "language": "python",
      "name": "python3"
    },
    "nav_menu": {},
    "toc": {
      "base_numbering": 1,
      "nav_menu": {},
      "number_sections": true,
      "sideBar": true,
      "skip_h1_title": false,
      "title_cell": "Table of Contents",
      "title_sidebar": "Contents",
      "toc_cell": false,
      "toc_position": {},
      "toc_section_display": "block",
      "toc_window_display": false
    },
    "varInspector": {
      "cols": {
        "lenName": 16,
        "lenType": 16,
        "lenVar": 40
      },
      "kernels_config": {
        "python": {
          "delete_cmd_postfix": "",
          "delete_cmd_prefix": "del ",
          "library": "var_list.py",
          "varRefreshCmd": "print(var_dic_list())"
        },
        "r": {
          "delete_cmd_postfix": ") ",
          "delete_cmd_prefix": "rm(",
          "library": "var_list.r",
          "varRefreshCmd": "cat(var_dic_list()) "
        }
      },
      "types_to_exclude": [
        "module",
        "function",
        "builtin_function_or_method",
        "instance",
        "_Feature"
      ],
      "window_display": false
    },
    "colab": {
      "name": "intro.ipynb",
      "provenance": []
    }
  },
  "nbformat": 4,
  "nbformat_minor": 0
}